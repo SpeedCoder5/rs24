{
 "cells": [
  {
   "cell_type": "markdown",
   "metadata": {},
   "source": [
    "# Welcome to Anyscale\n",
    "\n",
    "Welcome to your first Workspace - a powerful dev environment designed for making developing distributed AI applications a breeze. This is not just any dev box, it can seamlessly transition to a dev cluster without any configuration hassles.\n",
    "\n",
    "Let's dive in with a simple \"Hello World\" example."
   ]
  },
  {
   "cell_type": "code",
   "execution_count": null,
   "metadata": {},
   "outputs": [],
   "source": [
    "import ray\n",
    "import time\n",
    "\n",
    "@ray.remote(num_cpus=1)\n",
    "def hello_world(sleep=0):\n",
    "    time.sleep(sleep)\n",
    "    return \"Hello World!\"\n",
    "\n",
    "print(ray.get(hello_world.remote()))\n"
   ]
  },
  {
   "cell_type": "markdown",
   "metadata": {},
   "source": [
    "## Instant Scaling\n",
    "\n",
    "Now, let's witness the power of Anyscale's instant scaling. With just a few lines of code, you can scale your applications horizontally, leveraging the distributed computing of [Ray](https://www.ray.io/).\n",
    "\n",
    "Let's scale up!"
   ]
  },
  {
   "cell_type": "code",
   "execution_count": null,
   "metadata": {},
   "outputs": [],
   "source": [
    "futures = [hello_world.remote(sleep=5) for x in range(30)]\n",
    "results = ray.get(futures)\n",
    "print(\"Success!\")"
   ]
  }
 ],
 "metadata": {
  "kernelspec": {
   "display_name": "Python 3",
   "language": "python",
   "name": "python3"
  },
  "language_info": {
   "name": "python",
   "version": "3.8.9"
  }
 },
 "nbformat": 4,
 "nbformat_minor": 2
}
