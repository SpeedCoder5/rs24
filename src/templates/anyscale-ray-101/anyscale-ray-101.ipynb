{
 "cells": [
  {
   "cell_type": "markdown",
   "metadata": {},
   "source": [
    "# Anyscale & Ray 101"
   ]
  },
  {
   "cell_type": "markdown",
   "metadata": {},
   "source": [
    "This notebook is a very simple introduction to Anyscale & Ray. You are now running inside an Anyscale Workspace, a development envorinment designed to get you started with zero setup. You can use a workspace just like you use your laptop.\n",
    "\n",
    "Let's start with importing Ray."
   ]
  },
  {
   "cell_type": "code",
   "execution_count": null,
   "metadata": {},
   "outputs": [],
   "source": [
    "import ray\n",
    "\n",
    "ray.init()"
   ]
  },
  {
   "cell_type": "markdown",
   "metadata": {},
   "source": [
    "Let's define a simple function to calculate the square of `x` and convert it to a Ray [task](https://docs.ray.io/en/latest/ray-core/tasks.html).\n",
    "\n",
    "Here's an example of how you can do it:"
   ]
  },
  {
   "cell_type": "code",
   "execution_count": null,
   "metadata": {},
   "outputs": [],
   "source": [
    "@ray.remote\n",
    "def square(x):\n",
    "    return x * x"
   ]
  },
  {
   "cell_type": "markdown",
   "metadata": {},
   "source": [
    "In this code snippet, we import the ray module and decorate the `square` function with `@ray.remote`. This decorator allows us to execute the function as a Ray task, enabling distributed and parallel computing.\n",
    "\n",
    "Now, you can call the `square` function and pass the value of `x` as an argument. Ray will handle the execution of the function in a distributed manner."
   ]
  },
  {
   "cell_type": "code",
   "execution_count": null,
   "metadata": {},
   "outputs": [],
   "source": [
    "print(ray.get(square.remote(2)))"
   ]
  },
  {
   "cell_type": "markdown",
   "metadata": {},
   "source": [
    "Now, let's explore Ray at scale by increasing the load. We will add a sleep statement to simulate some load and then run 30 tasks. Note how Ray dynamically starts more nodes to scale up for the increased workload. You can configure the additional instance type and count by editing the [Anyscale Compute Configs](https://docs.anyscale.com/configure/compute-configs/overview)."
   ]
  },
  {
   "cell_type": "code",
   "execution_count": null,
   "metadata": {},
   "outputs": [],
   "source": [
    "@ray.remote\n",
    "def square(x):\n",
    "    import time\n",
    "    time.sleep(30)\n",
    "    return x * x\n",
    "\n",
    "# run 30 tasks\n",
    "remotes = [square.remote(x) for x in range(30)]\n",
    "print(ray.get(remotes))"
   ]
  },
  {
   "cell_type": "markdown",
   "metadata": {},
   "source": [
    "Now that we have successfully created this simple Ray task, let's convert it into an Anyscale Job. We can submit the Anyscale job using the Python version of this example (`anyscale-ray-101.py`). Anyscale Jobs are the recommended way to run workloads (such as data processing, model training, or fine-tuning) in production. You can learn more about Anyscale Jobs [here](https://docs.anyscale.com/productionize/jobs/get-started)."
   ]
  },
  {
   "cell_type": "code",
   "execution_count": null,
   "metadata": {
    "tags": [
     "remove_cell"
    ]
   },
   "outputs": [],
   "source": [
    "!anyscale job submit -- python anyscale-ray-101.py"
   ]
  }
 ],
 "metadata": {
  "kernelspec": {
   "display_name": "Python 3 (ipykernel)",
   "language": "python",
   "name": "python3"
  },
  "language_info": {
   "codemirror_mode": {
    "name": "ipython",
    "version": 3
   },
   "file_extension": ".py",
   "mimetype": "text/x-python",
   "name": "python",
   "nbconvert_exporter": "python",
   "pygments_lexer": "ipython3",
   "version": "3.9.15"
  }
 },
 "nbformat": 4,
 "nbformat_minor": 4
}
