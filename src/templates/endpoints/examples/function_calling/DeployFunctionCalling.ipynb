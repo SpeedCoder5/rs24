{
 "cells": [
  {
   "cell_type": "markdown",
   "metadata": {},
   "source": [
    "# Serving Function calling Models\n",
    "\n",
    "Anyscale Endpoints supports [function calling mode](https://www.anyscale.com/blog/anyscale-endpoints-json-mode-and-function-calling-features). We generally recommend running the starter script via ``python main.py`` to enable function calling for the selected models. You can go through the below steps if your model isn't based on one of the provided model architectures and prefer to construct the model config yaml yourself.\n"
   ]
  },
  {
   "cell_type": "markdown",
   "metadata": {},
   "source": [
    "\n",
    "# Step 1 - Configuring Function calling model\n",
    "\n",
    "If a model (example Mistral-7B-Instruct-v0.1) supports function calling, then you need to make following changes in model configuration file.\n",
    "\n",
    "For Example, you can see `models/mistral/mistralai--Mistral-7B-Instruct-v0.1_a10g_tp1.yaml` which has function calling mode enabled.\n",
    "\n",
    "1. Set `enable_json_logits_processors: true` under `engine_kwargs`\n",
    "\n",
    "```\n",
    "  engine_kwargs:\n",
    "    trust_remote_code: true\n",
    "    max_num_batched_tokens: 16384\n",
    "    max_num_seqs: 64\n",
    "    gpu_memory_utilization: 0.95\n",
    "    num_tokenizer_actors: 2\n",
    "    enable_cuda_graph: true\n",
    "    enable_json_logits_processors: true\n",
    "```\n",
    "\n",
    "2. Set `standalone_function_calling_model: true` in top level configuration.\n"
   ]
  },
  {
   "cell_type": "markdown",
   "metadata": {},
   "source": [
    "\n",
    "# Step 2 - Deploying & Querying Function calling model\n",
    "\n",
    "`func_calling-serve-{aws|gcp}.yaml` and `func_calling-query.py` are provided for you in this template.\n",
    "\n",
    "In order to deploy a model in function calling mode you need to edit the func_calling-serve yaml:\n",
    "Under `function_calling_models` add path to the model you want to use. You can add multiple model\n",
    "\n",
    "To deploy the the models, run:\n",
    "```bash\n",
    "# If on GCP, use func_calling-serve-gcp.yaml\n",
    "$ serve run examples/function_calling/func_calling-serve-aws.yaml\n",
    "```\n"
   ]
  },
  {
   "cell_type": "markdown",
   "metadata": {},
   "source": [
    "\n",
    "# Step 3 - Query the service endpoint\n",
    "\n",
    "In order to query the endpoint, you can modify the `func_calling-query.py` script, replacing the query url with the Service URL found in the Service UI.\n",
    "\n",
    "Note: please make sure to include the path \"/v1\" at the end of the Service url.\n"
   ]
  }
 ],
 "metadata": {
  "language_info": {
   "name": "python"
  },
  "orig_nbformat": 4
 },
 "nbformat": 4,
 "nbformat_minor": 2
}
